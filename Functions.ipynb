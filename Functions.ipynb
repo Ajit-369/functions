{
  "nbformat": 4,
  "nbformat_minor": 0,
  "metadata": {
    "colab": {
      "provenance": []
    },
    "kernelspec": {
      "name": "python3",
      "display_name": "Python 3"
    },
    "language_info": {
      "name": "python"
    }
  },
  "cells": [
    {
      "cell_type": "markdown",
      "source": [
        "# theory questions"
      ],
      "metadata": {
        "id": "PqlOmtNmaTdp"
      }
    },
    {
      "cell_type": "markdown",
      "source": [
        "1. What is the difference between a function and a method in Python?\n",
        "- In Python, a function is a block of code that performs a specific task. It is defined using the def keyword and can be called independently by its name. Functions are not tied to any object.\n",
        "\n",
        "On the other hand, a method is also a function, but it is associated with an object. Methods are called using the dot (.) operator on an object, and they usually operate on the data that belongs to that object.\n",
        "\n",
        "2.  Explain the concept of function arguments and parameters in Python.\n",
        "- In Python, parameters are the variables that are listed in the function definition. They act as placeholders for the values that the function will receive when it is called.\n",
        "\n",
        "Arguments are the actual values that you pass to the function when calling it.\n",
        "\n",
        "3. What are the different ways to define and call a function in Python?\n",
        "- In Python, a function is defined using the def keyword followed by the function name and parentheses. The body of the function contains the code that runs when the function is called.\n",
        "\n",
        "There are different ways to define a function in Python:\n",
        "\n",
        "Function without parameters - These functions do not take any input and are called without any arguments.\n",
        "\n",
        "Function with parameters - These functions take one or more inputs, which are used inside the function.\n",
        "\n",
        "Function with default parameters - These functions have default values for some parameters. If no value is passed while calling the function, the default value is used.\n",
        "\n",
        "Function that returns a value - These functions perform some operation and return the result to the caller.\n",
        "\n",
        "Function with variable number of arguments - Python allows functions to accept a variable number of arguments, useful when the number of inputs is not fixed.\n",
        "\n",
        "Lambda function - These are small anonymous functions defined using the lambda keyword. They are generally used for short, simple operations.\n",
        "\n",
        "4. What is the purpose of the 'return' statement in a Python function?\n",
        "- The return statement is used to give back a result from a function.\n",
        "\n",
        "It stops the function and sends a value back to where the function was called.\n",
        "\n",
        "If you dont use return, the function will not give any value back. It will just run the code.\n",
        "\n",
        "Example to remember:\n",
        "If a function is like a calculator, return is the button that shows the final answer.\n",
        "\n",
        "5. What are iterators in Python and how do they differ from iterables?\n",
        "-  An iterable is any Python object that can return its items one by one, like a list, tuple, or string. You can think of it as a collection you can loop over.\n",
        "\n",
        "An iterator is an object that keeps track of the current position when going through an iterable. It knows how to get the next item each time you ask for it.\n",
        "\n",
        "Difference:\n",
        "\n",
        "Iterable: Something you can loop over (like a list).\n",
        "\n",
        "Iterator: The tool that actually goes through the items one at a time.\n",
        "\n",
        "Example to remember:\n",
        "If the iterable is a book, the iterator is your finger pointing to each word as you read it one by one.\n",
        "\n",
        "6. Explain the concept of generators in Python and how they are defined.\n",
        "-  Generators are special functions that give back values one at a time, instead of all at once. They help save memory because they don’t create the whole list in memory; they generate each value only when needed.\n",
        "\n",
        "Generators are defined like regular functions, but instead of return, they use the yield keyword to give a value back. Each time you call the generator, it picks up where it left off and produces the next value.\n",
        "\n",
        "Remember:\n",
        "\n",
        "Generators are like a “lazy” list that produces items only when asked.\n",
        "\n",
        "They are useful when working with large data because they dont store everything in memory.\n",
        "\n",
        "7. What are the advantages of using generators over regular functions?\n",
        "\n",
        "- Advantages of using generators over regular functions:\n",
        "\n",
        "Save memory:\n",
        "Generators produce items one by one, so they dont store everything in memory like a list does. This is great when working with large data.\n",
        "\n",
        "Faster to start:\n",
        "Since generators dont create all items at once, they start giving results immediately without waiting to prepare everything.\n",
        "\n",
        "Can handle infinite sequences:\n",
        "Generators can keep producing values forever (like counting numbers), which normal functions cant do because they must finish and return a value.\n",
        "\n",
        "Simpler code for certain tasks:\n",
        "Using yield makes it easy to write code that generates sequences without managing the state or all values manually.\n",
        "\n",
        "In short, generators are memory-efficient, fast, and powerful for producing sequences or big data step-by-step.\n",
        "\n",
        "8. What is a lambda function in Python and when is it typically used?\n",
        "- A lambda function in Python is a small, anonymous function — meaning it has no name.\n",
        "\n",
        "It is used for short, simple tasks where you dont need a full def function. A lambda function can have any number of inputs but only one expression (no multiple lines).\n",
        "\n",
        "When is it used?\n",
        "\n",
        "When you need a quick function for a short time.\n",
        "\n",
        "Often used with functions like map(), filter(), and sorted().\n",
        "\n",
        "Good for writing clean and short code.\n",
        "\n",
        "9. Explain the purpose and usage of the 'map()' function in Python.\n",
        "- The map() function is used to apply a function to every item in a list (or any iterable), and it gives back a new map object (which can be turned into a list).\n",
        "\n",
        "It helps when you want to do the same thing to every item in a list, like doubling numbers, converting to uppercase, etc.\n",
        "\n",
        "10.  What is the difference between `map()`, `reduce()`, and `filter()` functions in Python?\n",
        "- map()\n",
        "Used to apply a function to every item in a list (or any iterable).\n",
        "\n",
        "Purpose: Transform each item.\n",
        "\n",
        "Example: Double every number in a list.\n",
        "\n",
        "- filter()\n",
        "Used to filter out items that don't match a condition.\n",
        "\n",
        "Purpose: Keep only items that meet a condition.\n",
        "\n",
        "Example: Keep only even numbers.\n",
        "\n",
        "- reduce()\n",
        "Used to combine all items into a single result by applying a function step-by-step.\n",
        "\n",
        "Purpose: Reduce a list to one value.\n",
        "\n",
        "Example: Add all numbers together."
      ],
      "metadata": {
        "id": "RSc-fLmLadDp"
      }
    },
    {
      "cell_type": "markdown",
      "source": [
        "# practical questions\n",
        "\n"
      ],
      "metadata": {
        "id": "pg69frbjufxu"
      }
    },
    {
      "cell_type": "code",
      "source": [
        "''' 1.  Write a Python function that takes a list of numbers as input and returns the sum of all even numbers in\n",
        "the list.'''\n",
        "def sum_even_numbers(numbers):\n",
        "    total = 0\n",
        "    for num in numbers:\n",
        "        if num % 2 == 0:\n",
        "            total += num\n",
        "    return total\n",
        "\n",
        "# Call the function with a list of numbers\n",
        "my_list = [1, 2, 3, 4, 5, 6]\n",
        "result = sum_even_numbers(my_list)\n",
        "\n",
        "# Print the result\n",
        "print(\"Sum of even numbers:\", result)"
      ],
      "metadata": {
        "colab": {
          "base_uri": "https://localhost:8080/"
        },
        "id": "-1JH8eV6gGPA",
        "outputId": "a7b2e38c-9b37-4ba9-84b7-dfec7514fa9f"
      },
      "execution_count": 7,
      "outputs": [
        {
          "output_type": "stream",
          "name": "stdout",
          "text": [
            "Sum of even numbers: 12\n"
          ]
        }
      ]
    },
    {
      "cell_type": "code",
      "source": [
        "''' 2.Create a Python function that accepts a string and returns the reverse of that string.'''\n",
        "def reverse_string(text):\n",
        "    return text[::-1]\n",
        "result = reverse_string(\"hello\")\n",
        "print(\"Reversed string:\", result)"
      ],
      "metadata": {
        "colab": {
          "base_uri": "https://localhost:8080/"
        },
        "id": "7Ibl3yfU6lkY",
        "outputId": "6703d8c5-a194-4e7d-e549-fbd58d49b72c"
      },
      "execution_count": 2,
      "outputs": [
        {
          "output_type": "stream",
          "name": "stdout",
          "text": [
            "Reversed string: olleh\n"
          ]
        }
      ]
    },
    {
      "cell_type": "code",
      "source": [
        "'''3. Implement a Python function that takes a list of integers and returns a new list containing the squares of\n",
        "each number.'''\n",
        "def square_numbers(numbers):\n",
        "    squared_list = []\n",
        "    for num in numbers:\n",
        "        squared_list.append(num ** 2)\n",
        "    return squared_list\n",
        "\n",
        "# Define the list outside the function\n",
        "my_list = [1, 2, 3, 4, 5]\n",
        "\n",
        "# Call the function\n",
        "result = square_numbers(my_list)\n",
        "\n",
        "# Print the result\n",
        "print(\"Squared numbers:\", result)"
      ],
      "metadata": {
        "colab": {
          "base_uri": "https://localhost:8080/"
        },
        "id": "KrlRbwX0h5Fv",
        "outputId": "ce54286a-12a0-46b1-d9c7-f14e349e5907"
      },
      "execution_count": 5,
      "outputs": [
        {
          "output_type": "stream",
          "name": "stdout",
          "text": [
            "Squared numbers: [1, 4, 9, 16, 25]\n"
          ]
        }
      ]
    },
    {
      "cell_type": "code",
      "source": [
        "'''4. Write a Python function that checks if a given number is prime or not from 1 to 200.'''\n",
        "def is_prime(n):\n",
        "    if n <= 1:\n",
        "        return False\n",
        "    for i in range(2, int(n**0.5) + 1):\n",
        "        if n % i == 0:\n",
        "            return False\n",
        "    return True\n",
        "\n",
        "num = int(input(\"Enter a number between 1 and 200: \"))\n",
        "\n",
        "if 1 <= num <= 200:\n",
        "    if is_prime(num):\n",
        "        print(num, \"is a prime number.\")\n",
        "    else:\n",
        "        print(num, \"is not a prime number.\")\n",
        "else:\n",
        "    print(\"Please enter a number between 1 and 200.\")"
      ],
      "metadata": {
        "colab": {
          "base_uri": "https://localhost:8080/"
        },
        "id": "1pEqmQFjlORx",
        "outputId": "9a43298c-c567-4cc7-e874-c5573eecef3c"
      },
      "execution_count": 7,
      "outputs": [
        {
          "output_type": "stream",
          "name": "stdout",
          "text": [
            "Enter a number between 1 and 200: 5\n",
            "5 is a prime number.\n"
          ]
        }
      ]
    },
    {
      "cell_type": "code",
      "source": [
        "'''5.  Create an iterator class in Python that generates the Fibonacci sequence up to a specified number of\n",
        "terms.'''\n",
        "class FibonacciIterator:\n",
        "    def __init__(self, limit):\n",
        "        self.limit = limit\n",
        "        self.count = 0\n",
        "        self.a = 0\n",
        "        self.b = 1\n",
        "\n",
        "    def __iter__(self):\n",
        "        return self\n",
        "\n",
        "    def __next__(self):\n",
        "        if self.count >= self.limit:\n",
        "            raise StopIteration\n",
        "        if self.count == 0:\n",
        "            self.count += 1\n",
        "            return self.a\n",
        "        elif self.count == 1:\n",
        "            self.count += 1\n",
        "            return self.b\n",
        "        else:\n",
        "            self.a, self.b = self.b, self.a + self.b\n",
        "            self.count += 1\n",
        "            return self.b\n",
        "n = int(input(\"Enter number of Fibonacci terms: \"))\n",
        "fib = FibonacciIterator(n)\n",
        "\n",
        "for num in fib:\n",
        "    print(num)"
      ],
      "metadata": {
        "colab": {
          "base_uri": "https://localhost:8080/"
        },
        "id": "WxywpCt6nSc5",
        "outputId": "daf6cab4-0c6c-4abc-a096-b78ca96f277e"
      },
      "execution_count": 9,
      "outputs": [
        {
          "output_type": "stream",
          "name": "stdout",
          "text": [
            "Enter number of Fibonacci terms: 5\n",
            "0\n",
            "1\n",
            "1\n",
            "2\n",
            "3\n"
          ]
        }
      ]
    },
    {
      "cell_type": "code",
      "source": [
        "'''6.  Write a generator function in Python that yields the powers of 2 up to a given exponent'''\n",
        "def powers_of_two(n):\n",
        "    for i in range(n + 1):\n",
        "        yield 2 ** i\n",
        "n = int(input(\"Enter the maximum exponent: \"))\n",
        "\n",
        "for power in powers_of_two(n):\n",
        "    print(power)"
      ],
      "metadata": {
        "colab": {
          "base_uri": "https://localhost:8080/"
        },
        "id": "GGxAlX_wpb-9",
        "outputId": "9d00e9d3-efdb-4564-d8d6-5adf384edf69"
      },
      "execution_count": 11,
      "outputs": [
        {
          "output_type": "stream",
          "name": "stdout",
          "text": [
            "Enter the maximum exponent: 4\n",
            "1\n",
            "2\n",
            "4\n",
            "8\n",
            "16\n"
          ]
        }
      ]
    },
    {
      "cell_type": "code",
      "source": [
        "'''7.  Implement a generator function that reads a file line by line and yields each line as a string.'''\n",
        "def read_file_line_by_line(filename):\n",
        "    with open(filename, 'r') as file:\n",
        "        for line in file:\n",
        "            yield line.rstrip('\\n')\n",
        "\n",
        "filename = \"C:\\Users\\A.P\\OneDrive\\Desktop\\New Text Document.txt\"\n",
        "\n",
        "for line in read_file_line_by_line(filename):\n",
        "    print(line)\n"
      ],
      "metadata": {
        "colab": {
          "base_uri": "https://localhost:8080/",
          "height": 106
        },
        "id": "je3K6Z94qEqv",
        "outputId": "ea9922b1-8b41-4379-ea03-adc9c061dfdb"
      },
      "execution_count": 20,
      "outputs": [
        {
          "output_type": "error",
          "ename": "SyntaxError",
          "evalue": "(unicode error) 'unicodeescape' codec can't decode bytes in position 2-3: truncated \\UXXXXXXXX escape (<ipython-input-20-8f2cac88b118>, line 7)",
          "traceback": [
            "\u001b[0;36m  File \u001b[0;32m\"<ipython-input-20-8f2cac88b118>\"\u001b[0;36m, line \u001b[0;32m7\u001b[0m\n\u001b[0;31m    filename = \"C:\\Users\\A.P\\OneDrive\\Desktop\\New Text Document.txt\"\u001b[0m\n\u001b[0m                                                                    ^\u001b[0m\n\u001b[0;31mSyntaxError\u001b[0m\u001b[0;31m:\u001b[0m (unicode error) 'unicodeescape' codec can't decode bytes in position 2-3: truncated \\UXXXXXXXX escape\n"
          ]
        }
      ]
    },
    {
      "cell_type": "code",
      "source": [
        "'''8.  Use a lambda function in Python to sort a list of tuples based on the second element of each tuple.'''\n",
        "# Sample list of tuples\n",
        "my_list = [(1, 3), (4, 1), (5, 2), (2, 4)]\n",
        "\n",
        "# Sort the list by the second element of each tuple\n",
        "sorted_list = sorted(my_list, key=lambda x: x[1])\n",
        "\n",
        "print(sorted_list)"
      ],
      "metadata": {
        "colab": {
          "base_uri": "https://localhost:8080/"
        },
        "id": "zxiyjBMQt3-S",
        "outputId": "ff9a9154-7a38-4f61-e263-0a6ee141b9cf"
      },
      "execution_count": 17,
      "outputs": [
        {
          "output_type": "stream",
          "name": "stdout",
          "text": [
            "[(4, 1), (5, 2), (1, 3), (2, 4)]\n"
          ]
        }
      ]
    },
    {
      "cell_type": "code",
      "source": [
        "'''9.  Write a Python program that uses `map()` to convert a list of temperatures from Celsius to Fahrenheit'''\n",
        "# List of temperatures in Celsius\n",
        "celsius_temps = [0, 20, 37, 100]\n",
        "\n",
        "# Convert to Fahrenheit using map and lambda\n",
        "fahrenheit_temps = list(map(lambda c: (c * 9/5) + 32, celsius_temps))\n",
        "\n",
        "print(\"Temperatures in Fahrenheit:\", fahrenheit_temps)"
      ],
      "metadata": {
        "colab": {
          "base_uri": "https://localhost:8080/"
        },
        "id": "m5Pe7i9NuOEN",
        "outputId": "c9b85021-cfc0-468d-dd75-b69ca69c5f9d"
      },
      "execution_count": 21,
      "outputs": [
        {
          "output_type": "stream",
          "name": "stdout",
          "text": [
            "Temperatures in Fahrenheit: [32.0, 68.0, 98.6, 212.0]\n"
          ]
        }
      ]
    },
    {
      "cell_type": "code",
      "source": [
        "'''10. Create a Python program that uses `filter()` to remove all the vowels from a given string.'''\n",
        "# Input string\n",
        "input_str = \"Hello, I am learning Python\"\n",
        "\n",
        "# Define vowels\n",
        "vowels = 'aeiouAEIOU'\n",
        "\n",
        "# Use filter to remove vowels\n",
        "no_vowels = ''.join(filter(lambda char: char not in vowels, input_str))\n",
        "\n",
        "print(\"String without vowels:\", no_vowels)"
      ],
      "metadata": {
        "colab": {
          "base_uri": "https://localhost:8080/"
        },
        "id": "3F00N0DWvYd8",
        "outputId": "9ba5bf06-45a4-47cc-c674-b4917079014b"
      },
      "execution_count": 22,
      "outputs": [
        {
          "output_type": "stream",
          "name": "stdout",
          "text": [
            "String without vowels: Hll,  m lrnng Pythn\n"
          ]
        }
      ]
    },
    {
      "cell_type": "code",
      "source": [
        "'''11. ) Imagine an accounting routine used in a book shop. It works on a list with sublists, which look like this:'''\n",
        "# Given data: list of orders with [Order Number, Book Title, Quantity, Price per Item]\n",
        "orders = [\n",
        "    [34587, \"Learning Python, Mark Lutz\", 4, 40.95],\n",
        "    [98762, \"Programming Python, Mark Lutz\", 5, 56.80],\n",
        "    [77226, \"Head First Python, Paul Barry\", 3, 32.95],\n",
        "    [88112, \"Einführung in Python3, Bernd Klein\", 3, 24.99]\n",
        "]\n",
        "\n",
        "# Calculate the total for each order and apply 10€ charge if total < 100\n",
        "final_result = list(map(\n",
        "    lambda order: (order[0], round(order[2] * order[3] + (10 if order[2] * order[3] < 100 else 0), 2)),\n",
        "    orders\n",
        "))\n",
        "\n",
        "print(final_result)"
      ],
      "metadata": {
        "colab": {
          "base_uri": "https://localhost:8080/"
        },
        "id": "48r7wKKBwrTj",
        "outputId": "21ae46eb-3f05-4cf9-93b3-e5cadd26581a"
      },
      "execution_count": 23,
      "outputs": [
        {
          "output_type": "stream",
          "name": "stdout",
          "text": [
            "[(34587, 163.8), (98762, 284.0), (77226, 108.85), (88112, 84.97)]\n"
          ]
        }
      ]
    }
  ]
}